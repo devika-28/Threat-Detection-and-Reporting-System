{
 "cells": [
  {
   "cell_type": "code",
   "execution_count": 2,
   "metadata": {
    "scrolled": true
   },
   "outputs": [],
   "source": [
    "from finalCaptureLoad import captureFrame,loadData\n",
    "import cv2\n",
    "#import time\n",
    "\n",
    "from darkflow.net.build import TFNet\n"
   ]
  },
  {
   "cell_type": "code",
   "execution_count": 7,
   "metadata": {},
   "outputs": [],
   "source": [
    "def detectMedicalNeeds():\n",
    "    pass\n",
    "    tfnet=TFNet(loadData('./built_graph/tiny-yolo-voc-2c.pb','./built_graph/tiny-yolo-voc-2c.meta',0.11))\n",
    "    #frame=captureFrame()\n",
    "    \n",
    "    capture = cv2.VideoCapture('./cs4.mp4')\n",
    "    if (capture.isOpened()== False): \n",
    "          print(\"Error opening video stream or file\")\n",
    "    Alertcount=0         \n",
    "    while(capture.isOpened()):\n",
    "        #stime=time.time()\n",
    "        ret, frame = capture.read()# ret is  True when the video is playing.\n",
    "        if ret:\n",
    "            result = tfnet.return_predict(frame)\n",
    "            for i in result:\n",
    "                    if i['label']=='Fall':\n",
    "                                print('ATTENTION')\n",
    "                            ###we have a gun here!!!!!!!!\n",
    "                                if Alertcount%15==0:\n",
    "                                    #alert.alert()\n",
    "                                    print('ALERT')\n",
    "\n",
    "                                    Alertcount+=1\n",
    "                                #alert.alert()\n",
    "                          ###we have our person here!!!!!!!!\n",
    "                    #alert.alert()\n",
    "                                frame=frame.copy()\n",
    "                                topLeft=(i['topleft']['x'],i['topleft']['y'])\n",
    "                                bottomright= (i['bottomright']['x'],i['bottomright']['y'])\n",
    "                                try:\n",
    "                                    x=(i['topleft']['x']+i['bottomright']['x'])/2\n",
    "                                    y=(i['topleft']['y']+i['bottomright']['y'])/2\n",
    "                                    center=(int(x),int(y))\n",
    "                                except:\n",
    "                                    center=bottomright\n",
    "                                frame=cv2.rectangle( frame ,topLeft  ,bottomright , (0,0,255), 10)\n",
    "                                try:\n",
    "                                    framee=cv2.putText(frame,'ALERT!!',center,cv2.FONT_HERSHEY_COMPLEX, 1, (0, 0, 255), 2)\n",
    "                                except:\n",
    "                                    framee=cv2.putText(frame,'ALERT!!',bottomright,cv2.FONT_HERSHEY_COMPLEX, 1, (0, 0, 255), 2)\n",
    "            cv2.imshow('frame',frame)\n",
    "            #print('FPS {:.1f}'.format(1 / (time.time() - stime)))\n",
    "            if cv2.waitKey(1) & 0xFF == ord('q'):\n",
    "                break\n",
    "        else:\n",
    "            capture.release()\n",
    "            cv2.destroyAllWindows()\n",
    "            break\n"
   ]
  },
  {
   "cell_type": "code",
   "execution_count": 8,
   "metadata": {},
   "outputs": [
    {
     "name": "stdout",
     "output_type": "stream",
     "text": [
      "\n",
      "Loading from .pb and .meta\n",
      "Running entirely on CPU\n",
      "ATTENTION\n",
      "ALERT\n",
      "ATTENTION\n",
      "ATTENTION\n",
      "ATTENTION\n",
      "ATTENTION\n",
      "ATTENTION\n",
      "ATTENTION\n",
      "ATTENTION\n",
      "ATTENTION\n",
      "ATTENTION\n",
      "ATTENTION\n",
      "ATTENTION\n",
      "ATTENTION\n",
      "ATTENTION\n",
      "ATTENTION\n",
      "ATTENTION\n",
      "ATTENTION\n",
      "ATTENTION\n",
      "ATTENTION\n",
      "ATTENTION\n",
      "ATTENTION\n",
      "ATTENTION\n",
      "ATTENTION\n",
      "ATTENTION\n",
      "ATTENTION\n",
      "ATTENTION\n",
      "ATTENTION\n",
      "ATTENTION\n",
      "ATTENTION\n",
      "ATTENTION\n",
      "ATTENTION\n",
      "ATTENTION\n",
      "ATTENTION\n",
      "ATTENTION\n",
      "ATTENTION\n",
      "ATTENTION\n",
      "ATTENTION\n",
      "ATTENTION\n",
      "ATTENTION\n"
     ]
    }
   ],
   "source": [
    "if __name__ == '__main__':\n",
    "    detectMedicalNeeds()"
   ]
  },
  {
   "cell_type": "code",
   "execution_count": null,
   "metadata": {},
   "outputs": [],
   "source": []
  }
 ],
 "metadata": {
  "kernelspec": {
   "display_name": "Python 3",
   "language": "python",
   "name": "python3"
  },
  "language_info": {
   "codemirror_mode": {
    "name": "ipython",
    "version": 3
   },
   "file_extension": ".py",
   "mimetype": "text/x-python",
   "name": "python",
   "nbconvert_exporter": "python",
   "pygments_lexer": "ipython3",
   "version": "3.7.3"
  }
 },
 "nbformat": 4,
 "nbformat_minor": 2
}
