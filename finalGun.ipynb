{
 "cells": [
  {
   "cell_type": "code",
   "execution_count": 2,
   "metadata": {
    "scrolled": true
   },
   "outputs": [
    {
     "name": "stderr",
     "output_type": "stream",
     "text": [
      "WARNING: Logging before flag parsing goes to stderr.\n",
      "W1214 18:00:47.869336 10400 lazy_loader.py:50] \n",
      "The TensorFlow contrib module will not be included in TensorFlow 2.0.\n",
      "For more information, please see:\n",
      "  * https://github.com/tensorflow/community/blob/master/rfcs/20180907-contrib-sunset.md\n",
      "  * https://github.com/tensorflow/addons\n",
      "  * https://github.com/tensorflow/io (for I/O related ops)\n",
      "If you depend on functionality not listed there, please file an issue.\n",
      "\n",
      "W1214 18:00:47.973127 10400 module_wrapper.py:139] From E:\\Python\\major\\Fall-detectionl\\darkflow\\net\\build.py:15: The name tf.train.RMSPropOptimizer is deprecated. Please use tf.compat.v1.train.RMSPropOptimizer instead.\n",
      "\n",
      "W1214 18:00:47.974160 10400 module_wrapper.py:139] From E:\\Python\\major\\Fall-detectionl\\darkflow\\net\\build.py:16: The name tf.train.AdadeltaOptimizer is deprecated. Please use tf.compat.v1.train.AdadeltaOptimizer instead.\n",
      "\n",
      "W1214 18:00:47.974160 10400 module_wrapper.py:139] From E:\\Python\\major\\Fall-detectionl\\darkflow\\net\\build.py:17: The name tf.train.AdagradOptimizer is deprecated. Please use tf.compat.v1.train.AdagradOptimizer instead.\n",
      "\n",
      "W1214 18:00:47.975128 10400 module_wrapper.py:139] From E:\\Python\\major\\Fall-detectionl\\darkflow\\net\\build.py:18: The name tf.train.AdagradDAOptimizer is deprecated. Please use tf.compat.v1.train.AdagradDAOptimizer instead.\n",
      "\n",
      "W1214 18:00:47.976129 10400 module_wrapper.py:139] From E:\\Python\\major\\Fall-detectionl\\darkflow\\net\\build.py:19: The name tf.train.MomentumOptimizer is deprecated. Please use tf.compat.v1.train.MomentumOptimizer instead.\n",
      "\n",
      "W1214 18:00:47.977132 10400 module_wrapper.py:139] From E:\\Python\\major\\Fall-detectionl\\darkflow\\net\\build.py:20: The name tf.train.AdamOptimizer is deprecated. Please use tf.compat.v1.train.AdamOptimizer instead.\n",
      "\n",
      "W1214 18:00:47.978133 10400 module_wrapper.py:139] From E:\\Python\\major\\Fall-detectionl\\darkflow\\net\\build.py:21: The name tf.train.FtrlOptimizer is deprecated. Please use tf.compat.v1.train.FtrlOptimizer instead.\n",
      "\n",
      "W1214 18:00:47.979132 10400 module_wrapper.py:139] From E:\\Python\\major\\Fall-detectionl\\darkflow\\net\\build.py:22: The name tf.train.GradientDescentOptimizer is deprecated. Please use tf.compat.v1.train.GradientDescentOptimizer instead.\n",
      "\n"
     ]
    }
   ],
   "source": [
    "from finalCaptureLoad import captureFrame,loadData\n",
    "import cv2\n",
    "#import time\n",
    "\n",
    "from darkflow.net.build import TFNet\n"
   ]
  },
  {
   "cell_type": "code",
   "execution_count": 11,
   "metadata": {},
   "outputs": [],
   "source": [
    "def detectgun():\n",
    "    pass\n",
    "    tfnet=TFNet(loadData('./built_graph/tiny-yolo-voc-gun.pb','./built_graph/tiny-yolo-voc-gun.meta',0.11))\n",
    "    #frame=captureFrame()\n",
    "    \n",
    "    capture = cv2.VideoCapture('./gunrange.mp4')\n",
    "    if (capture.isOpened()== False): \n",
    "          print(\"Error opening video stream or file\")\n",
    "    Alertcount=0         \n",
    "    while(capture.isOpened()):\n",
    "        #stime=time.time()\n",
    "        ret, frame = capture.read()# ret is  True when the video is playing.\n",
    "        if ret:\n",
    "            result = tfnet.return_predict(frame)\n",
    "            for i in result:\n",
    "                    if i['label']=='gun':\n",
    "                                print('GUN FOUND')\n",
    "                            ###we have a gun here!!!!!!!!\n",
    "                                if Alertcount%15==0:\n",
    "                                    #alert.alert()\n",
    "                                    print('ALERT')\n",
    "\n",
    "                                    Alertcount+=1\n",
    "                                #alert.alert()\n",
    "                          ###we have our person here!!!!!!!!\n",
    "                    #alert.alert()\n",
    "                                frame=frame.copy()\n",
    "                                topLeft=(i['topleft']['x'],i['topleft']['y'])\n",
    "                                bottomright= (i['bottomright']['x'],i['bottomright']['y'])\n",
    "                                try:\n",
    "                                    x=(i['topleft']['x']+i['bottomright']['x'])/2\n",
    "                                    y=(i['topleft']['y']+i['bottomright']['y'])/2\n",
    "                                    center=(int(x),int(y))\n",
    "                                except:\n",
    "                                    center=bottomright\n",
    "                                frame=cv2.rectangle( frame ,topLeft  ,bottomright , (0,0,255), 10)\n",
    "                                try:\n",
    "                                    framee=cv2.putText(frame,'ALERT!!',center,cv2.FONT_HERSHEY_COMPLEX, 1, (0, 0, 255), 2)\n",
    "                                except:\n",
    "                                    framee=cv2.putText(frame,'ALERT!!',bottomright,cv2.FONT_HERSHEY_COMPLEX, 1, (0, 0, 255), 2)\n",
    "            cv2.imshow('frame',frame)\n",
    "            #print('FPS {:.1f}'.format(1 / (time.time() - stime)))\n",
    "            if cv2.waitKey(1) & 0xFF == ord('q'):\n",
    "                break\n",
    "        else:\n",
    "            capture.release()\n",
    "            cv2.destroyAllWindows()\n",
    "            break\n"
   ]
  },
  {
   "cell_type": "code",
   "execution_count": 12,
   "metadata": {},
   "outputs": [
    {
     "name": "stdout",
     "output_type": "stream",
     "text": [
      "\n",
      "Loading from .pb and .meta\n",
      "Running entirely on CPU\n",
      "GUN FOUND\n",
      "ALERT\n",
      "GUN FOUND\n",
      "GUN FOUND\n",
      "GUN FOUND\n",
      "GUN FOUND\n",
      "GUN FOUND\n",
      "GUN FOUND\n",
      "GUN FOUND\n",
      "GUN FOUND\n",
      "GUN FOUND\n",
      "GUN FOUND\n",
      "GUN FOUND\n",
      "GUN FOUND\n",
      "GUN FOUND\n",
      "GUN FOUND\n",
      "GUN FOUND\n"
     ]
    }
   ],
   "source": [
    "if __name__ == '__main__':\n",
    "    detectgun()"
   ]
  }
 ],
 "metadata": {
  "kernelspec": {
   "display_name": "Python 3",
   "language": "python",
   "name": "python3"
  },
  "language_info": {
   "codemirror_mode": {
    "name": "ipython",
    "version": 3
   },
   "file_extension": ".py",
   "mimetype": "text/x-python",
   "name": "python",
   "nbconvert_exporter": "python",
   "pygments_lexer": "ipython3",
   "version": "3.7.3"
  }
 },
 "nbformat": 4,
 "nbformat_minor": 2
}
