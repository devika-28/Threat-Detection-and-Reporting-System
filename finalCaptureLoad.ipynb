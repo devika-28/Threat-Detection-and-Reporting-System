{
 "cells": [
  {
   "cell_type": "code",
   "execution_count": 28,
   "metadata": {},
   "outputs": [],
   "source": [
    "def loadData(pb,meta,):\n",
    "    option={'pbLoad':str(pb), 'metaLoad':str(meta)}\n",
    "    \n",
    "    return option\n",
    "\n",
    "\n"
   ]
  },
  {
   "cell_type": "code",
   "execution_count": 30,
   "metadata": {},
   "outputs": [],
   "source": [
    "def askInputFilePath():\n",
    "    file=input('Please Enter Path To Input')\n",
    "    if file=='camera'or'Camera'or None:\n",
    "        return 0\n",
    "    return file"
   ]
  },
  {
   "cell_type": "code",
   "execution_count": 31,
   "metadata": {},
   "outputs": [],
   "source": [
    "import cv2\n",
    "def captureFrame():\n",
    "    capture = cv2.VideoCapture(askInputFilePath)\n",
    "    \n",
    "    if (capture.isOpened()== False): \n",
    "          print(\"Error opening video stream or file\")\n",
    "            \n",
    "            \n",
    "    while(capture.isOpened()):\n",
    "        stime=time.time()\n",
    "        ret, frame = capture.read()# ret is  True when the video is playing.\n",
    "        if ret:\n",
    "            return frame\n",
    "\n",
    "        else:\n",
    "            capture.release()\n",
    "            cv2.destroyAllWindows()\n",
    "            break\n",
    "            return None\n",
    "     \n",
    "        \n"
   ]
  },
  {
   "cell_type": "code",
   "execution_count": null,
   "metadata": {},
   "outputs": [],
   "source": []
  },
  {
   "cell_type": "code",
   "execution_count": null,
   "metadata": {},
   "outputs": [],
   "source": []
  }
 ],
 "metadata": {
  "kernelspec": {
   "display_name": "Python 3",
   "language": "python",
   "name": "python3"
  },
  "language_info": {
   "codemirror_mode": {
    "name": "ipython",
    "version": 3
   },
   "file_extension": ".py",
   "mimetype": "text/x-python",
   "name": "python",
   "nbconvert_exporter": "python",
   "pygments_lexer": "ipython3",
   "version": "3.7.3"
  }
 },
 "nbformat": 4,
 "nbformat_minor": 2
}
